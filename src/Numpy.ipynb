{
 "cells": [
  {
   "cell_type": "markdown",
   "id": "75f88fab",
   "metadata": {},
   "source": [
    "# BASICS"
   ]
  },
  {
   "cell_type": "code",
   "execution_count": 1,
   "id": "d77f70d4",
   "metadata": {},
   "outputs": [],
   "source": [
    "import numpy as np"
   ]
  },
  {
   "cell_type": "code",
   "execution_count": 2,
   "id": "f3919383",
   "metadata": {},
   "outputs": [
    {
     "data": {
      "text/plain": [
       "array([1, 2, 3])"
      ]
     },
     "execution_count": 2,
     "metadata": {},
     "output_type": "execute_result"
    }
   ],
   "source": [
    "arr=np.array([1,2,3])\n",
    "arr\n"
   ]
  },
  {
   "cell_type": "code",
   "execution_count": 3,
   "id": "8af2c7a4",
   "metadata": {},
   "outputs": [],
   "source": [
    "import time\n",
    "import sys"
   ]
  },
  {
   "cell_type": "code",
   "execution_count": 5,
   "id": "6b4859da",
   "metadata": {},
   "outputs": [
    {
     "name": "stdout",
     "output_type": "stream",
     "text": [
      "28000\n"
     ]
    }
   ],
   "source": [
    "#to test memory and time\n",
    "#size\n",
    "b=range(1000) #creates a list of 1000\n",
    "print(sys.getsizeof(5)*len(b))"
   ]
  },
  {
   "cell_type": "code",
   "execution_count": 6,
   "id": "aa77053f",
   "metadata": {},
   "outputs": [
    {
     "name": "stdout",
     "output_type": "stream",
     "text": [
      "4000\n"
     ]
    }
   ],
   "source": [
    "c=np.arange(1000)\n",
    "print(c.size*c.itemsize)\n"
   ]
  },
  {
   "cell_type": "code",
   "execution_count": 7,
   "id": "f38f9256",
   "metadata": {},
   "outputs": [],
   "source": [
    "#time"
   ]
  },
  {
   "cell_type": "code",
   "execution_count": 8,
   "id": "3b378eea",
   "metadata": {},
   "outputs": [],
   "source": [
    "size=10000"
   ]
  },
  {
   "cell_type": "code",
   "execution_count": 9,
   "id": "a1e14c92",
   "metadata": {},
   "outputs": [],
   "source": [
    "#Basic Operations"
   ]
  },
  {
   "cell_type": "code",
   "execution_count": 13,
   "id": "d98675a7",
   "metadata": {},
   "outputs": [
    {
     "data": {
      "text/plain": [
       "array([[1, 2],\n",
       "       [3, 4],\n",
       "       [5, 6]])"
      ]
     },
     "execution_count": 13,
     "metadata": {},
     "output_type": "execute_result"
    }
   ],
   "source": [
    "array = np.array([[1,2],[3,4],[5,6]])\n",
    "array\n",
    "#array has 3 objects with  "
   ]
  },
  {
   "cell_type": "code",
   "execution_count": 11,
   "id": "d6b4ab06",
   "metadata": {},
   "outputs": [
    {
     "data": {
      "text/plain": [
       "2"
      ]
     },
     "execution_count": 11,
     "metadata": {},
     "output_type": "execute_result"
    }
   ],
   "source": [
    "array.ndim"
   ]
  },
  {
   "cell_type": "code",
   "execution_count": 12,
   "id": "f07625b7",
   "metadata": {},
   "outputs": [
    {
     "data": {
      "text/plain": [
       "4"
      ]
     },
     "execution_count": 12,
     "metadata": {},
     "output_type": "execute_result"
    }
   ],
   "source": [
    "array.itemsize\n"
   ]
  },
  {
   "cell_type": "code",
   "execution_count": 15,
   "id": "131f6119",
   "metadata": {},
   "outputs": [
    {
     "data": {
      "text/plain": [
       "array([[1., 2.],\n",
       "       [3., 4.],\n",
       "       [5., 6.]])"
      ]
     },
     "execution_count": 15,
     "metadata": {},
     "output_type": "execute_result"
    }
   ],
   "source": [
    "A=np.array([[1,2],[3,4],[5,6]],float)\n",
    "A\n"
   ]
  },
  {
   "cell_type": "code",
   "execution_count": 16,
   "id": "f902f601",
   "metadata": {},
   "outputs": [
    {
     "data": {
      "text/plain": [
       "8"
      ]
     },
     "execution_count": 16,
     "metadata": {},
     "output_type": "execute_result"
    }
   ],
   "source": [
    "A.itemsize"
   ]
  },
  {
   "cell_type": "code",
   "execution_count": 17,
   "id": "b4ab920d",
   "metadata": {},
   "outputs": [
    {
     "data": {
      "text/plain": [
       "(3, 2)"
      ]
     },
     "execution_count": 17,
     "metadata": {},
     "output_type": "execute_result"
    }
   ],
   "source": [
    "A.shape"
   ]
  },
  {
   "cell_type": "code",
   "execution_count": 20,
   "id": "d317590a",
   "metadata": {},
   "outputs": [
    {
     "data": {
      "text/plain": [
       "array([[1.+0.j, 2.+0.j],\n",
       "       [3.+0.j, 4.+0.j],\n",
       "       [5.+0.j, 6.+0.j]])"
      ]
     },
     "execution_count": 20,
     "metadata": {},
     "output_type": "execute_result"
    }
   ],
   "source": [
    "AC=np.array(A,complex)\n",
    "AC"
   ]
  },
  {
   "cell_type": "code",
   "execution_count": 21,
   "id": "7b36ec46",
   "metadata": {},
   "outputs": [
    {
     "data": {
      "text/plain": [
       "(3, 2)"
      ]
     },
     "execution_count": 21,
     "metadata": {},
     "output_type": "execute_result"
    }
   ],
   "source": [
    "AC.shape"
   ]
  },
  {
   "cell_type": "code",
   "execution_count": 23,
   "id": "f4f5804b",
   "metadata": {},
   "outputs": [
    {
     "data": {
      "text/plain": [
       "array([[0., 0., 0., 0.],\n",
       "       [0., 0., 0., 0.],\n",
       "       [0., 0., 0., 0.]])"
      ]
     },
     "execution_count": 23,
     "metadata": {},
     "output_type": "execute_result"
    }
   ],
   "source": [
    "np.zeros((3,4)) #creates a zero arrays\n"
   ]
  },
  {
   "cell_type": "code",
   "execution_count": 24,
   "id": "a5694509",
   "metadata": {},
   "outputs": [
    {
     "data": {
      "text/plain": [
       "array([[1., 1., 1., 1.],\n",
       "       [1., 1., 1., 1.],\n",
       "       [1., 1., 1., 1.]])"
      ]
     },
     "execution_count": 24,
     "metadata": {},
     "output_type": "execute_result"
    }
   ],
   "source": [
    "np.ones((3,4))"
   ]
  },
  {
   "cell_type": "code",
   "execution_count": 25,
   "id": "25069f67",
   "metadata": {},
   "outputs": [
    {
     "data": {
      "text/plain": [
       "array([0, 1, 2, 3, 4])"
      ]
     },
     "execution_count": 25,
     "metadata": {},
     "output_type": "execute_result"
    }
   ],
   "source": [
    "np.arange(5)"
   ]
  },
  {
   "cell_type": "code",
   "execution_count": 27,
   "id": "f5627fff",
   "metadata": {},
   "outputs": [
    {
     "name": "stdout",
     "output_type": "stream",
     "text": [
      "['helloWorld' 'hiPython']\n"
     ]
    }
   ],
   "source": [
    "#Concatenation:adds corresponding array items\n",
    "print(np.char.add(['hello','hi'],['World','Python']))"
   ]
  },
  {
   "cell_type": "code",
   "execution_count": 30,
   "id": "d61bc67e",
   "metadata": {},
   "outputs": [
    {
     "name": "stdout",
     "output_type": "stream",
     "text": [
      "['Abi' 'rm' 'loak']\n"
     ]
    }
   ],
   "source": [
    "print(np.char.strip(['Abia','aarm','loak'],'a'))#removes extreme end characters"
   ]
  },
  {
   "cell_type": "code",
   "execution_count": 31,
   "id": "76ae2205",
   "metadata": {},
   "outputs": [
    {
     "name": "stdout",
     "output_type": "stream",
     "text": [
      "['d:m:y' 'y-m-d']\n"
     ]
    }
   ],
   "source": [
    "print(np.char.join([':','-'],['dmy','ymd']))"
   ]
  },
  {
   "cell_type": "markdown",
   "id": "32d29a7e",
   "metadata": {},
   "source": [
    "# ARRAY MANIPULATION"
   ]
  },
  {
   "cell_type": "markdown",
   "id": "d171aa40",
   "metadata": {},
   "source": [
    "## Array manipulation-changing shape"
   ]
  },
  {
   "cell_type": "code",
   "execution_count": 36,
   "id": "0032a4c9",
   "metadata": {},
   "outputs": [
    {
     "name": "stdout",
     "output_type": "stream",
     "text": [
      "The original array:\n",
      "[0 1 2 3 4 5 6 7 8]\n",
      "\n",
      "The modified array:\n",
      "[[0 1 2]\n",
      " [3 4 5]\n",
      " [6 7 8]]\n"
     ]
    }
   ],
   "source": [
    "og=np.arange(9)\n",
    "print('The original array:')\n",
    "print(og)\n",
    "print()\n",
    "md=og.reshape(3,3)\n",
    "print('The modified array:')\n",
    "print(md)"
   ]
  },
  {
   "cell_type": "code",
   "execution_count": 43,
   "id": "453b6791",
   "metadata": {},
   "outputs": [
    {
     "name": "stdout",
     "output_type": "stream",
     "text": [
      "[0 3 6 1 4 7 2 5 8]\n"
     ]
    }
   ],
   "source": [
    "print(md.flatten(order=\"F\"))#flattens array columnwise or Columnwise"
   ]
  },
  {
   "cell_type": "code",
   "execution_count": 42,
   "id": "2ceedecf",
   "metadata": {},
   "outputs": [
    {
     "name": "stdout",
     "output_type": "stream",
     "text": [
      "[0 1 2 3 4 5 6 7 8]\n"
     ]
    }
   ],
   "source": [
    "print(md.flatten())"
   ]
  },
  {
   "cell_type": "code",
   "execution_count": 44,
   "id": "67d5c596",
   "metadata": {},
   "outputs": [
    {
     "name": "stdout",
     "output_type": "stream",
     "text": [
      "[0 1 2 3 4 5 6 7 8]\n"
     ]
    }
   ],
   "source": [
    "print(md.flatten(\"C\"))#row major array"
   ]
  },
  {
   "cell_type": "code",
   "execution_count": 46,
   "id": "456823c4",
   "metadata": {},
   "outputs": [
    {
     "data": {
      "text/plain": [
       "array([[ 0,  1,  2],\n",
       "       [ 3,  4,  5],\n",
       "       [ 6,  7,  8],\n",
       "       [ 9, 10, 11]])"
      ]
     },
     "execution_count": 46,
     "metadata": {},
     "output_type": "execute_result"
    }
   ],
   "source": [
    "a=np.arange(12).reshape(4,3)\n",
    "a\n",
    "#reshape multiple m*n=total elts"
   ]
  },
  {
   "cell_type": "code",
   "execution_count": 47,
   "id": "6a4146a7",
   "metadata": {},
   "outputs": [
    {
     "data": {
      "text/plain": [
       "array([[ 0,  3,  6,  9],\n",
       "       [ 1,  4,  7, 10],\n",
       "       [ 2,  5,  8, 11]])"
      ]
     },
     "execution_count": 47,
     "metadata": {},
     "output_type": "execute_result"
    }
   ],
   "source": [
    "#Transpose:\n",
    "np.transpose(a)"
   ]
  },
  {
   "cell_type": "code",
   "execution_count": 56,
   "id": "1739917c",
   "metadata": {},
   "outputs": [
    {
     "ename": "AttributeError",
     "evalue": "'int' object has no attribute 'ndim'",
     "output_type": "error",
     "traceback": [
      "\u001b[1;31m---------------------------------------------------------------------------\u001b[0m",
      "\u001b[1;31mAttributeError\u001b[0m                            Traceback (most recent call last)",
      "Cell \u001b[1;32mIn[56], line 3\u001b[0m\n\u001b[0;32m      1\u001b[0m \u001b[38;5;66;03m#rollaxis(): rolls the specified axis to a new position in a multidimensional arry\u001b[39;00m\n\u001b[0;32m      2\u001b[0m \u001b[38;5;66;03m#it provides a way to change the layout without chnging the data\u001b[39;00m\n\u001b[1;32m----> 3\u001b[0m \u001b[38;5;28mprint\u001b[39m(\u001b[43mnp\u001b[49m\u001b[38;5;241;43m.\u001b[39;49m\u001b[43mrollaxis\u001b[49m\u001b[43m(\u001b[49m\u001b[38;5;241;43m2\u001b[39;49m\u001b[43m,\u001b[49m\u001b[38;5;241;43m2\u001b[39;49m\u001b[43m,\u001b[49m\u001b[38;5;241;43m0\u001b[39;49m\u001b[43m)\u001b[49m)\n",
      "File \u001b[1;32m<__array_function__ internals>:180\u001b[0m, in \u001b[0;36mrollaxis\u001b[1;34m(*args, **kwargs)\u001b[0m\n",
      "File \u001b[1;32m~\\anaconda3\\lib\\site-packages\\numpy\\core\\numeric.py:1329\u001b[0m, in \u001b[0;36mrollaxis\u001b[1;34m(a, axis, start)\u001b[0m\n\u001b[0;32m   1257\u001b[0m \u001b[38;5;129m@array_function_dispatch\u001b[39m(_rollaxis_dispatcher)\n\u001b[0;32m   1258\u001b[0m \u001b[38;5;28;01mdef\u001b[39;00m \u001b[38;5;21mrollaxis\u001b[39m(a, axis, start\u001b[38;5;241m=\u001b[39m\u001b[38;5;241m0\u001b[39m):\n\u001b[0;32m   1259\u001b[0m     \u001b[38;5;124;03m\"\"\"\u001b[39;00m\n\u001b[0;32m   1260\u001b[0m \u001b[38;5;124;03m    Roll the specified axis backwards, until it lies in a given position.\u001b[39;00m\n\u001b[0;32m   1261\u001b[0m \n\u001b[1;32m   (...)\u001b[0m\n\u001b[0;32m   1327\u001b[0m \n\u001b[0;32m   1328\u001b[0m \u001b[38;5;124;03m    \"\"\"\u001b[39;00m\n\u001b[1;32m-> 1329\u001b[0m     n \u001b[38;5;241m=\u001b[39m \u001b[43ma\u001b[49m\u001b[38;5;241;43m.\u001b[39;49m\u001b[43mndim\u001b[49m\n\u001b[0;32m   1330\u001b[0m     axis \u001b[38;5;241m=\u001b[39m normalize_axis_index(axis, n)\n\u001b[0;32m   1331\u001b[0m     \u001b[38;5;28;01mif\u001b[39;00m start \u001b[38;5;241m<\u001b[39m \u001b[38;5;241m0\u001b[39m:\n",
      "\u001b[1;31mAttributeError\u001b[0m: 'int' object has no attribute 'ndim'"
     ]
    }
   ],
   "source": [
    "#rollaxis(): rolls the specified axis to a new position in a multidimensional arry\n",
    "#it provides a way to change the layout without chnging the data\n",
    "print(np.rollaxis(2,2,0))"
   ]
  },
  {
   "cell_type": "markdown",
   "id": "53b383a9",
   "metadata": {},
   "source": [
    "## Numpy Arithmetic operations"
   ]
  },
  {
   "cell_type": "code",
   "execution_count": 58,
   "id": "c044077e",
   "metadata": {},
   "outputs": [
    {
     "data": {
      "text/plain": [
       "array([[0, 1, 2],\n",
       "       [3, 4, 5],\n",
       "       [6, 7, 8]])"
      ]
     },
     "execution_count": 58,
     "metadata": {},
     "output_type": "execute_result"
    }
   ],
   "source": [
    "og=np.arange(9).reshape(3,3)\n",
    "og"
   ]
  },
  {
   "cell_type": "code",
   "execution_count": 60,
   "id": "4c0c7a16",
   "metadata": {},
   "outputs": [
    {
     "data": {
      "text/plain": [
       "array([10, 10, 10])"
      ]
     },
     "execution_count": 60,
     "metadata": {},
     "output_type": "execute_result"
    }
   ],
   "source": [
    "b=np.array([10,10,10])\n",
    "b"
   ]
  },
  {
   "cell_type": "code",
   "execution_count": 62,
   "id": "1a0c1524",
   "metadata": {},
   "outputs": [
    {
     "data": {
      "text/plain": [
       "array([[10, 11, 12],\n",
       "       [13, 14, 15],\n",
       "       [16, 17, 18]])"
      ]
     },
     "execution_count": 62,
     "metadata": {},
     "output_type": "execute_result"
    }
   ],
   "source": [
    "np.add(og,b)"
   ]
  },
  {
   "cell_type": "code",
   "execution_count": 63,
   "id": "4ca569c4",
   "metadata": {},
   "outputs": [
    {
     "data": {
      "text/plain": [
       "array([[-10,  -9,  -8],\n",
       "       [ -7,  -6,  -5],\n",
       "       [ -4,  -3,  -2]])"
      ]
     },
     "execution_count": 63,
     "metadata": {},
     "output_type": "execute_result"
    }
   ],
   "source": [
    "np.subtract(og,b)"
   ]
  },
  {
   "cell_type": "markdown",
   "id": "4d51e0c0",
   "metadata": {},
   "source": [
    "## Slicing\n"
   ]
  },
  {
   "cell_type": "code",
   "execution_count": 3,
   "id": "bc70f19e",
   "metadata": {},
   "outputs": [
    {
     "data": {
      "text/plain": [
       "array([0, 1, 2, 3, 4, 5, 6, 7, 8, 9])"
      ]
     },
     "execution_count": 3,
     "metadata": {},
     "output_type": "execute_result"
    }
   ],
   "source": [
    "import numpy as np\n",
    "A=np.arange(10)\n",
    "A\n"
   ]
  },
  {
   "cell_type": "code",
   "execution_count": 4,
   "id": "730a5622",
   "metadata": {},
   "outputs": [
    {
     "data": {
      "text/plain": [
       "array([0, 1, 2, 3])"
      ]
     },
     "execution_count": 4,
     "metadata": {},
     "output_type": "execute_result"
    }
   ],
   "source": [
    "A[:4]"
   ]
  },
  {
   "cell_type": "code",
   "execution_count": 5,
   "id": "31648084",
   "metadata": {},
   "outputs": [
    {
     "data": {
      "text/plain": [
       "5"
      ]
     },
     "execution_count": 5,
     "metadata": {},
     "output_type": "execute_result"
    }
   ],
   "source": [
    "A[5]"
   ]
  },
  {
   "cell_type": "code",
   "execution_count": 6,
   "id": "e201f0c3",
   "metadata": {},
   "outputs": [
    {
     "data": {
      "text/plain": [
       "array([1, 3, 5, 7])"
      ]
     },
     "execution_count": 6,
     "metadata": {},
     "output_type": "execute_result"
    }
   ],
   "source": [
    "A[1:8:2]"
   ]
  },
  {
   "cell_type": "markdown",
   "id": "1459774b",
   "metadata": {},
   "source": [
    " ## Iterating Over Array"
   ]
  },
  {
   "cell_type": "code",
   "execution_count": 12,
   "id": "bfe286ec",
   "metadata": {},
   "outputs": [
    {
     "data": {
      "text/plain": [
       "array([[ 0,  5, 10],\n",
       "       [15, 20, 25],\n",
       "       [30, 35, 40]])"
      ]
     },
     "execution_count": 12,
     "metadata": {},
     "output_type": "execute_result"
    }
   ],
   "source": [
    "a=np.arange(0,45,5)\n",
    "a=a.reshape(3,3)\n",
    "a"
   ]
  },
  {
   "cell_type": "code",
   "execution_count": 13,
   "id": "bb18e51c",
   "metadata": {},
   "outputs": [
    {
     "name": "stdout",
     "output_type": "stream",
     "text": [
      "[ 0  5 10]\n",
      "[15 20 25]\n",
      "[30 35 40]\n"
     ]
    }
   ],
   "source": [
    "for x in a:\n",
    "    print(x)"
   ]
  },
  {
   "cell_type": "code",
   "execution_count": 15,
   "id": "43b7dfe8",
   "metadata": {},
   "outputs": [
    {
     "name": "stdout",
     "output_type": "stream",
     "text": [
      "0\n",
      "5\n",
      "10\n",
      "15\n",
      "20\n",
      "25\n",
      "30\n",
      "35\n",
      "40\n"
     ]
    }
   ],
   "source": [
    "for x in a:\n",
    "    for y in x:\n",
    "        print(y)"
   ]
  },
  {
   "cell_type": "markdown",
   "id": "3774ac63",
   "metadata": {},
   "source": [
    "## Iteration order(c-style and f-style)\n",
    "np.nditer is an iterator object provided by NumPy that allows you to iterate over elements in a multi-dimensional array (ndarray) in a more efficient way "
   ]
  },
  {
   "cell_type": "code",
   "execution_count": 20,
   "id": "c10d89dd",
   "metadata": {},
   "outputs": [
    {
     "name": "stdout",
     "output_type": "stream",
     "text": [
      "[[ 0  5 10]\n",
      " [15 20 25]\n",
      " [30 35 40]]\n",
      "0\n",
      "5\n",
      "10\n",
      "15\n",
      "20\n",
      "25\n",
      "30\n",
      "35\n",
      "40\n",
      "\n",
      "0\n",
      "15\n",
      "30\n",
      "5\n",
      "20\n",
      "35\n",
      "10\n",
      "25\n",
      "40\n",
      "\n"
     ]
    }
   ],
   "source": [
    "print(a)\n",
    "for x in np.nditer(a,order=\"C\"):\n",
    "    print(x)\n",
    "print()\n",
    "for x in np.nditer(a,order=\"F\"):\n",
    "    print(x)\n",
    "print()\n"
   ]
  },
  {
   "cell_type": "markdown",
   "id": "d9e8a1e0",
   "metadata": {},
   "source": [
    "## Joining Arrays"
   ]
  },
  {
   "cell_type": "code",
   "execution_count": 25,
   "id": "ba762625",
   "metadata": {},
   "outputs": [
    {
     "name": "stdout",
     "output_type": "stream",
     "text": [
      "First Array\n",
      "[[1 2]\n",
      " [3 4]]\n",
      "Second Array\n",
      "[[5 6]\n",
      " [7 8]]\n",
      "\n",
      "Joining along axis 0\n",
      "[[1 2]\n",
      " [3 4]\n",
      " [5 6]\n",
      " [7 8]]\n",
      "Joining along axis 1\n",
      "[[1 2 5 6]\n",
      " [3 4 7 8]]\n"
     ]
    }
   ],
   "source": [
    "a=np.array([[1,2],[3,4]])\n",
    "print(\"First Array\")\n",
    "print(a)\n",
    "b=np.array([[5,6],[7,8]])\n",
    "print(\"Second Array\")\n",
    "print(b)\n",
    "print()\n",
    "print(\"Joining along axis 0\")\n",
    "print(np.concatenate((a,b)))\n",
    "print(\"Joining along axis 1\")\n",
    "print(np.concatenate((a,b),axis=1))"
   ]
  },
  {
   "cell_type": "code",
   "execution_count": 40,
   "id": "a8009819",
   "metadata": {},
   "outputs": [
    {
     "name": "stderr",
     "output_type": "stream",
     "text": [
      "C:\\Users\\abhib\\AppData\\Local\\Temp\\ipykernel_17456\\3686380090.py:1: VisibleDeprecationWarning: Creating an ndarray from ragged nested sequences (which is a list-or-tuple of lists-or-tuples-or ndarrays with different lengths or shapes) is deprecated. If you meant to do this, you must specify 'dtype=object' when creating the ndarray.\n",
      "  A=np.array([[0,1,4],[5,6]])\n"
     ]
    },
    {
     "ename": "AxisError",
     "evalue": "axis 1 is out of bounds for array of dimension 1",
     "output_type": "error",
     "traceback": [
      "\u001b[1;31m---------------------------------------------------------------------------\u001b[0m",
      "\u001b[1;31mAxisError\u001b[0m                                 Traceback (most recent call last)",
      "Cell \u001b[1;32mIn[40], line 3\u001b[0m\n\u001b[0;32m      1\u001b[0m A\u001b[38;5;241m=\u001b[39mnp\u001b[38;5;241m.\u001b[39marray([[\u001b[38;5;241m0\u001b[39m,\u001b[38;5;241m1\u001b[39m,\u001b[38;5;241m4\u001b[39m],[\u001b[38;5;241m5\u001b[39m,\u001b[38;5;241m6\u001b[39m]])\n\u001b[0;32m      2\u001b[0m B\u001b[38;5;241m=\u001b[39mnp\u001b[38;5;241m.\u001b[39marray([[\u001b[38;5;241m2\u001b[39m,\u001b[38;5;241m3\u001b[39m],[\u001b[38;5;241m9\u001b[39m,\u001b[38;5;241m8\u001b[39m]])\n\u001b[1;32m----> 3\u001b[0m \u001b[38;5;28mprint\u001b[39m(\u001b[43mnp\u001b[49m\u001b[38;5;241;43m.\u001b[39;49m\u001b[43mconcatenate\u001b[49m\u001b[43m(\u001b[49m\u001b[43m(\u001b[49m\u001b[43mA\u001b[49m\u001b[43m,\u001b[49m\u001b[43mB\u001b[49m\u001b[43m)\u001b[49m\u001b[43m,\u001b[49m\u001b[43maxis\u001b[49m\u001b[38;5;241;43m=\u001b[39;49m\u001b[38;5;241;43m1\u001b[39;49m\u001b[43m)\u001b[49m)\n",
      "File \u001b[1;32m<__array_function__ internals>:180\u001b[0m, in \u001b[0;36mconcatenate\u001b[1;34m(*args, **kwargs)\u001b[0m\n",
      "\u001b[1;31mAxisError\u001b[0m: axis 1 is out of bounds for array of dimension 1"
     ]
    }
   ],
   "source": [
    "A=np.array([[0,1,4],[5,6]])\n",
    "B=np.array([[2,3],[9,8]])\n",
    "print(np.concatenate((A,B),axis=1))"
   ]
  },
  {
   "cell_type": "markdown",
   "id": "4bf2be27",
   "metadata": {},
   "source": [
    "## Splitting array\n"
   ]
  },
  {
   "cell_type": "code",
   "execution_count": 1,
   "id": "17835786",
   "metadata": {},
   "outputs": [],
   "source": [
    "import numpy as np\n"
   ]
  },
  {
   "cell_type": "code",
   "execution_count": 9,
   "id": "9005d3a5",
   "metadata": {},
   "outputs": [
    {
     "name": "stdout",
     "output_type": "stream",
     "text": [
      "[0 1 2 3 4 5 6 7 8]\n"
     ]
    },
    {
     "data": {
      "text/plain": [
       "[array([0, 1, 2]), array([3, 4, 5]), array([6, 7, 8])]"
      ]
     },
     "execution_count": 9,
     "metadata": {},
     "output_type": "execute_result"
    }
   ],
   "source": [
    "a=np.arange(9)\n",
    "print(a)\n",
    "np.split(a,3)\n"
   ]
  },
  {
   "cell_type": "code",
   "execution_count": 10,
   "id": "c434ea99",
   "metadata": {},
   "outputs": [
    {
     "data": {
      "text/plain": [
       "[array([0, 1, 2, 3]), array([4, 5, 6]), array([7, 8])]"
      ]
     },
     "execution_count": 10,
     "metadata": {},
     "output_type": "execute_result"
    }
   ],
   "source": [
    "np.split(a,[4,7]) #first split at pos 4 and second split at pos 7"
   ]
  },
  {
   "cell_type": "code",
   "execution_count": 11,
   "id": "fd97a691",
   "metadata": {},
   "outputs": [
    {
     "data": {
      "text/plain": [
       "[array([0, 1]), array([2, 3]), array([4]), array([5, 6, 7, 8])]"
      ]
     },
     "execution_count": 11,
     "metadata": {},
     "output_type": "execute_result"
    }
   ],
   "source": [
    "np.split(a,[2,4,5])"
   ]
  },
  {
   "cell_type": "markdown",
   "id": "ed03efa3",
   "metadata": {},
   "source": [
    "## Resizing array"
   ]
  },
  {
   "cell_type": "code",
   "execution_count": 18,
   "id": "d40a9846",
   "metadata": {},
   "outputs": [
    {
     "name": "stdout",
     "output_type": "stream",
     "text": [
      "[[1 2 3]\n",
      " [4 5 6]] \n",
      "\n",
      "(2, 3) \n",
      "\n",
      "[[1 2 3]\n",
      " [4 5 6]\n",
      " [1 2 3]] \n",
      "\n",
      "(3, 3)\n"
     ]
    }
   ],
   "source": [
    "a=np.array([[1,2,3],[4,5,6]])\n",
    "print(a,\"\\n\")\n",
    "print(a.shape,\"\\n\")\n",
    "b=np.resize(a,(3,3))#if not sufficient data to satisfy, repeats it until reqd\n",
    "print(b,\"\\n\")       #shape obtained\n",
    "print(b.shape)"
   ]
  },
  {
   "cell_type": "markdown",
   "id": "a29a7b26",
   "metadata": {},
   "source": [
    "## histogram:\n",
    "### using matplotlib and pyplot"
   ]
  },
  {
   "cell_type": "code",
   "execution_count": 22,
   "id": "c6505392",
   "metadata": {},
   "outputs": [],
   "source": [
    "from matplotlib import pyplot as plt\n",
    "import numpy as np"
   ]
  },
  {
   "cell_type": "code",
   "execution_count": 24,
   "id": "4cf1d2d4",
   "metadata": {},
   "outputs": [
    {
     "data": {
      "image/png": "[encoded data removed]",
      "text/plain": [
       "<Figure size 640x480 with 1 Axes>"
      ]
     },
     "metadata": {},
     "output_type": "display_data"
    }
   ],
   "source": [
    "X=np.array([0,6])\n",
    "Y=np.array([0,6])\n",
    "plt.plot(X,Y)\n",
    "plt.show()"
   ]
  },
  {
   "cell_type": "code",
   "execution_count": 33,
   "id": "f50f53b9",
   "metadata": {},
   "outputs": [
    {
     "data": {
      "image/png": "[encoded data removed]",
      "text/plain": [
       "<Figure size 640x480 with 1 Axes>"
      ]
     },
     "metadata": {},
     "output_type": "display_data"
    }
   ],
   "source": [
    "a=np.array([20,87,4,40,53,74,56,51,10,29,40,16,100,66,69])\n",
    "plt.hist(a,bins=[0,20,40,60,80,100])\n",
    "plt.title(\"histogram\")\n",
    "plt.show()"
   ]
  },
  {
   "cell_type": "markdown",
   "id": "993b08ef",
   "metadata": {},
   "source": [
    "### other useful numpy functions"
   ]
  },
  {
   "cell_type": "code",
   "execution_count": 38,
   "id": "b2fe71e0",
   "metadata": {},
   "outputs": [
    {
     "name": "stdout",
     "output_type": "stream",
     "text": [
      "[1.         1.22222222 1.44444444 1.66666667 1.88888889 2.11111111\n",
      " 2.33333333 2.55555556 2.77777778 3.        ]\n",
      "[0.  0.5 1.  1.5 2. ]\n"
     ]
    }
   ],
   "source": [
    "#linspace function: creates an array of evenly spaced nos,within specified range\n",
    "a=np.linspace(1,3,10)#1-start,3-end,10-no of parts\n",
    "print(a)\n",
    "b=np.linspace(0,2,5)\n",
    "print(b)"
   ]
  },
  {
   "cell_type": "code",
   "execution_count": 41,
   "id": "19a84d6f",
   "metadata": {},
   "outputs": [
    {
     "name": "stdout",
     "output_type": "stream",
     "text": [
      "[4 6 8]\n",
      "[ 6 12]\n"
     ]
    }
   ],
   "source": [
    "#sum and axis\n",
    "a=np.array([(1,2,3),(3,4,5)])\n",
    "print(a.sum(axis=0)) #adds the corresponding columns\n",
    "print(a.sum(axis=1)) #adds the corresponding rows"
   ]
  },
  {
   "cell_type": "code",
   "execution_count": 47,
   "id": "1890623c",
   "metadata": {},
   "outputs": [
    {
     "name": "stdout",
     "output_type": "stream",
     "text": [
      "[[1.         1.41421356 1.73205081]\n",
      " [1.73205081 2.         2.23606798]]\n",
      "1.2909944487358056\n",
      "[1. 1. 1.]\n",
      "[0.81649658 0.81649658]\n"
     ]
    }
   ],
   "source": [
    "#sqrt and standard deviation \n",
    "print(np.sqrt(a))\n",
    "print(np.std(a)) #calculates by flattening the array, by default\n",
    "print(np.std(a,axis=0))\n",
    "print(np.std(a,axis=1))"
   ]
  },
  {
   "cell_type": "markdown",
   "id": "fa0c3443",
   "metadata": {},
   "source": [
    " ## Practise example"
   ]
  },
  {
   "cell_type": "code",
   "execution_count": 66,
   "id": "5b06c57a",
   "metadata": {},
   "outputs": [
    {
     "data": {
      "image/png": "[encoded data removed]",
      "text/plain": [
       "<Figure size 640x480 with 1 Axes>"
      ]
     },
     "metadata": {},
     "output_type": "display_data"
    }
   ],
   "source": [
    "#  use matplotlib and numpy to plot a sin graph\n",
    "import numpy as np\n",
    "import matplotlib.pyplot as plt\n",
    "\n",
    "#create x cordinates\n",
    "x=np.arange(0,2*np.pi,0.1)\n",
    "y=np.sin(x)\n",
    "plt.plot(x,y)\n",
    "plt.show()\n"
   ]
  },
  {
   "cell_type": "code",
   "execution_count": 88,
   "id": "a59a122b",
   "metadata": {},
   "outputs": [
    {
     "name": "stdout",
     "output_type": "stream",
     "text": [
      "[[0 0 0 0 0 0]\n",
      " [0 0 0 0 0 0]\n",
      " [0 0 0 0 0 0]\n",
      " [0 0 0 0 0 0]\n",
      " [0 0 0 0 0 0]\n",
      " [0 0 0 0 0 0]]\n",
      "\n",
      "[[0 0 0 0 0 0]\n",
      " [1 0 1 0 1 0]\n",
      " [0 0 0 0 0 0]\n",
      " [1 0 1 0 1 0]\n",
      " [0 0 0 0 0 0]\n",
      " [1 0 1 0 1 0]]\n",
      "\n",
      "[[0 1 0 1 0 1]\n",
      " [1 0 1 0 1 0]\n",
      " [0 1 0 1 0 1]\n",
      " [1 0 1 0 1 0]\n",
      " [0 1 0 1 0 1]\n",
      " [1 0 1 0 1 0]]\n"
     ]
    }
   ],
   "source": [
    "#create a 6*6 2-D array, and let 1 and 0 be placed alternatively \n",
    "#across the diagonals\n",
    "z=np.zeros((6,6),dtype=int)\n",
    "print(z)\n",
    "print()\n",
    "z[1::2,::2]=1\n",
    "print(z)\n",
    "print()\n",
    "z[0::2,1::2]=1\n",
    "print(z)\n"
   ]
  },
  {
   "cell_type": "markdown",
   "id": "5f0e4a94",
   "metadata": {},
   "source": [
    "1::2 selects rows starting from index 1 (the second row) and skips every 2nd row after that. So, it selects the 2nd row, 4th row, 6th row, and so on.\n",
    "::2 selects all columns, but it skips every 2nd column. So, it selects the 1st column, 3rd column, 5th column, and so on.\n",
    "In other words, z[1::2, ::2] selects elements from every other row and every other column, starting from the 2nd row and the 1st column.'''\n",
    "\n",
    "1:13:30 https://www.youtube.com/watch?v=FniLzpaSFGk&ab_channel=Simplilearn"
   ]
  },
  {
   "cell_type": "code",
   "execution_count": 12,
   "id": "dc4ae04a",
   "metadata": {},
   "outputs": [
    {
     "data": {
      "text/plain": [
       "array([[0.20365941, 0.10073596, 0.95604523, 0.38546391, 0.24590171,\n",
       "        0.42351851, 0.63070464, 0.44049987, 0.040501  , 0.62989258],\n",
       "       [0.66166176, 0.45607748, 0.14376294, 0.37517086, 0.61052559,\n",
       "        0.28284521, 0.77949106, 0.37736169, 0.10836878, 0.32913052],\n",
       "       [0.53897172, 0.90010663, 0.62563221, 0.04674258, 0.0331981 ,\n",
       "        0.10935109,        nan, 0.16523373, 0.98881507, 0.10684993],\n",
       "       [0.96339726, 0.3645535 , 0.88153384, 0.76685308, 0.07979336,\n",
       "        0.8878223 , 0.607406  , 0.26029305, 0.33438155, 0.09476413],\n",
       "       [0.5891914 , 0.8810438 , 0.7726734 , 0.00715849, 0.57429635,\n",
       "        0.1074024 , 0.47641862, 0.22868829, 0.03970399, 0.59034144],\n",
       "       [0.40355034, 0.32667407,        nan,        nan, 0.33723217,\n",
       "        0.71669167, 0.34678134, 0.89234478, 0.45336728, 0.44286931],\n",
       "       [0.13819939, 0.88485378, 0.74232909, 0.12444136, 0.35478365,\n",
       "        0.8995468 , 0.23526747, 0.91651355, 0.07902993, 0.57195688],\n",
       "       [0.41892181, 0.42307878, 0.46940061, 0.26314777,        nan,\n",
       "               nan, 0.12441904, 0.40699035, 0.19045972, 0.72222025],\n",
       "       [0.67832745, 0.94156085, 0.90448891, 0.72910998, 0.37397484,\n",
       "        0.2484633 , 0.37484637, 0.90063701, 0.0070941 , 0.21368931],\n",
       "       [0.53956956, 0.40361035, 0.13186813, 0.61279089, 0.4519209 ,\n",
       "        0.7455666 , 0.2053192 , 0.93132915, 0.20256048, 0.460608  ]])"
      ]
     },
     "execution_count": 12,
     "metadata": {},
     "output_type": "execute_result"
    }
   ],
   "source": [
    "#Find the total number and location of missinng values in an array\n",
    "import numpy as np\n",
    "z=np.random.rand(10,10) #10*10 random array\n",
    "z[np.random.randint(10,size=5),np.random.randint(10,size=5)]=np.nan\n",
    "z"
   ]
  },
  {
   "cell_type": "code",
   "execution_count": 16,
   "id": "88fdb1d2",
   "metadata": {},
   "outputs": [
    {
     "name": "stdout",
     "output_type": "stream",
     "text": [
      "Total number of missing values: \n",
      " 5\n",
      "Indexes of missing values: \n",
      " [[2 6]\n",
      " [5 2]\n",
      " [5 3]\n",
      " [7 4]\n",
      " [7 5]]\n",
      "(array([2, 5, 5, 7, 7], dtype=int64), array([6, 2, 3, 4, 5], dtype=int64))\n"
     ]
    }
   ],
   "source": [
    "print(\"Total number of missing values: \\n\",np.isnan(z).sum())\n",
    "print(\"Indexes of missing values: \\n\",np.argwhere(np.isnan(z)))\n",
    "misind=np.where(np.isnan(z)) #returns a tuple containing the row indices\n",
    "                             #and column indices where NaN elements are present\n",
    "print(misind)"
   ]
  },
  {
   "cell_type": "markdown",
   "id": "83f39249",
   "metadata": {},
   "source": [
    "1.np.isnan(array): \n",
    "returns a boolean value\n",
    "checks for nan values in an array\n",
    "2.np.argwhere()\n",
    "returns the indices of elements in an array that satisfy a given condition"
   ]
  },
  {
   "cell_type": "code",
   "execution_count": 19,
   "id": "f6cf72fe",
   "metadata": {},
   "outputs": [
    {
     "data": {
      "text/plain": [
       "array([[0.20365941, 0.10073596, 0.95604523, 0.38546391, 0.24590171,\n",
       "        0.42351851, 0.63070464, 0.44049987, 0.040501  , 0.62989258],\n",
       "       [0.66166176, 0.45607748, 0.14376294, 0.37517086, 0.61052559,\n",
       "        0.28284521, 0.77949106, 0.37736169, 0.10836878, 0.32913052],\n",
       "       [0.53897172, 0.90010663, 0.62563221, 0.04674258, 0.0331981 ,\n",
       "        0.10935109, 0.        , 0.16523373, 0.98881507, 0.10684993],\n",
       "       [0.96339726, 0.3645535 , 0.88153384, 0.76685308, 0.07979336,\n",
       "        0.8878223 , 0.607406  , 0.26029305, 0.33438155, 0.09476413],\n",
       "       [0.5891914 , 0.8810438 , 0.7726734 , 0.00715849, 0.57429635,\n",
       "        0.1074024 , 0.47641862, 0.22868829, 0.03970399, 0.59034144],\n",
       "       [0.40355034, 0.32667407, 0.        , 0.        , 0.33723217,\n",
       "        0.71669167, 0.34678134, 0.89234478, 0.45336728, 0.44286931],\n",
       "       [0.13819939, 0.88485378, 0.74232909, 0.12444136, 0.35478365,\n",
       "        0.8995468 , 0.23526747, 0.91651355, 0.07902993, 0.57195688],\n",
       "       [0.41892181, 0.42307878, 0.46940061, 0.26314777, 0.        ,\n",
       "        0.        , 0.12441904, 0.40699035, 0.19045972, 0.72222025],\n",
       "       [0.67832745, 0.94156085, 0.90448891, 0.72910998, 0.37397484,\n",
       "        0.2484633 , 0.37484637, 0.90063701, 0.0070941 , 0.21368931],\n",
       "       [0.53956956, 0.40361035, 0.13186813, 0.61279089, 0.4519209 ,\n",
       "        0.7455666 , 0.2053192 , 0.93132915, 0.20256048, 0.460608  ]])"
      ]
     },
     "execution_count": 19,
     "metadata": {},
     "output_type": "execute_result"
    }
   ],
   "source": [
    "z[misind]=0\n",
    "z\n",
    "#we hv set all nan valued indexes to zero\n",
    "#what we can do during data anlysis is take mean of all elts, and replace missing\n",
    "#values with that"
   ]
  },
  {
   "cell_type": "code",
   "execution_count": 24,
   "id": "af341bb0",
   "metadata": {},
   "outputs": [
    {
     "name": "stdout",
     "output_type": "stream",
     "text": [
      "0.4541720206261262 0.4320091866756393\n"
     ]
    },
    {
     "data": {
      "text/plain": [
       "array([[0.20365941, 0.10073596, 0.95604523, 0.38546391, 0.24590171,\n",
       "        0.42351851, 0.63070464, 0.44049987, 0.040501  , 0.62989258],\n",
       "       [0.66166176, 0.45607748, 0.14376294, 0.37517086, 0.61052559,\n",
       "        0.28284521, 0.77949106, 0.37736169, 0.10836878, 0.32913052],\n",
       "       [0.53897172, 0.90010663, 0.62563221, 0.04674258, 0.0331981 ,\n",
       "        0.10935109, 0.45417189, 0.16523373, 0.98881507, 0.10684993],\n",
       "       [0.96339726, 0.3645535 , 0.88153384, 0.76685308, 0.07979336,\n",
       "        0.8878223 , 0.607406  , 0.26029305, 0.33438155, 0.09476413],\n",
       "       [0.5891914 , 0.8810438 , 0.7726734 , 0.00715849, 0.57429635,\n",
       "        0.1074024 , 0.47641862, 0.22868829, 0.03970399, 0.59034144],\n",
       "       [0.40355034, 0.32667407, 0.45417189, 0.45417189, 0.33723217,\n",
       "        0.71669167, 0.34678134, 0.89234478, 0.45336728, 0.44286931],\n",
       "       [0.13819939, 0.88485378, 0.74232909, 0.12444136, 0.35478365,\n",
       "        0.8995468 , 0.23526747, 0.91651355, 0.07902993, 0.57195688],\n",
       "       [0.41892181, 0.42307878, 0.46940061, 0.26314777, 0.45417189,\n",
       "        0.45417189, 0.12441904, 0.40699035, 0.19045972, 0.72222025],\n",
       "       [0.67832745, 0.94156085, 0.90448891, 0.72910998, 0.37397484,\n",
       "        0.2484633 , 0.37484637, 0.90063701, 0.0070941 , 0.21368931],\n",
       "       [0.53956956, 0.40361035, 0.13186813, 0.61279089, 0.4519209 ,\n",
       "        0.7455666 , 0.2053192 , 0.93132915, 0.20256048, 0.460608  ]])"
      ]
     },
     "execution_count": 24,
     "metadata": {},
     "output_type": "execute_result"
    }
   ],
   "source": [
    "z[misind]=np.mean(z)\n",
    "print(np.mean(z),np.median(z))\n",
    "z"
   ]
  },
  {
   "cell_type": "code",
   "execution_count": null,
   "id": "2bef1a0b",
   "metadata": {},
   "outputs": [],
   "source": []
  }
 ],
 "metadata": {
  "kernelspec": {
   "display_name": "Python 3 (ipykernel)",
   "language": "python",
   "name": "python3"
  },
  "language_info": {
   "codemirror_mode": {
    "name": "ipython",
    "version": 3
   },
   "file_extension": ".py",
   "mimetype": "text/x-python",
   "name": "python",
   "nbconvert_exporter": "python",
   "pygments_lexer": "ipython3",
   "version": "3.10.9"
  }
 },
 "nbformat": 4,
 "nbformat_minor": 5
}
